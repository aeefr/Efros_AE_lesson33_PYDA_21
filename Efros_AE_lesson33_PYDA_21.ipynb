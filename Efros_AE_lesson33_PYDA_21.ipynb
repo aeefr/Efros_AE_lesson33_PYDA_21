{
 "cells": [
  {
   "cell_type": "markdown",
   "metadata": {},
   "source": [
    "# Смоделировать игру против лотерейного автомата типа “777”. # Игрок платит 1 руб., после чего выпадает случайное целое число, \n",
    "# равномерно распределенное от 0 до 999.# При некоторых значениях числа игрок получает выигрыш.\n",
    "# 777: 200 руб.\n",
    "# 999: 100 руб.\n",
    "# 555: 50 руб.\n",
    "# 333: 15 руб.\n",
    "# 111: 1M0 руб.\n",
    "# *77: 5 руб.\n",
    "# **7: 3 руб.\n",
    "# *00: 2 руб.\n",
    "# **0: 1 руб.\n",
    "# Вопросы: 1. Выгодна ли игра игроку? 2. Сколько в среднем приобретает или теряет игрок за одну игру?\n",
    "# **Дополнительное задание повышенной сложности. Теоретически рассчитать средний выигрыш (проигрыш) и сравнить с результатами моделирования\n"
   ]
  },
  {
   "cell_type": "code",
   "execution_count": 26,
   "metadata": {},
   "outputs": [
    {
     "name": "stdout",
     "output_type": "stream",
     "text": [
      "Вероятность выигрыша, сумма выигрыша|проигрыша за 1 попытку, руб  -0.206143\n",
      "В среднем за игру игрок выигрывает или проигрывает (если значение отрицательное)  -206143 при бюджете 1000000\n"
     ]
    }
   ],
   "source": [
    "\n",
    "import numpy as np\n",
    "\n",
    "trials = 1000000# Количество попыток \\ бюджет игры\n",
    "successes = 0    # сумма выигрыша\n",
    "loss = 0    # сумма потерь\n",
    "cost = 1   # цена одной попытки\n",
    "\n",
    "for i in range(trials):\n",
    "\n",
    "    int1 = str(np.random.randint(0, 10))\n",
    "    int2 = str(np.random.randint(0, 10))\n",
    "    int3 = str(np.random.randint(0, 10))\n",
    "    result_int = int1 + int2 + int3\n",
    "    \n",
    "    if result_int == '777':\n",
    "        successes += 199  # суммы выигрыша за минусом стоимости игры (1 руб)  \n",
    "    elif result_int == '999':\n",
    "        successes += 99\n",
    "    elif result_int == '555':\n",
    "        successes += 49\n",
    "    elif result_int == '333':\n",
    "        successes += 14\n",
    "    elif result_int == '111':\n",
    "        successes += 9\n",
    "    elif int(result_int) % 100 == 77 and result_int != '777':\n",
    "        successes += 4\n",
    "    elif int(result_int) % 10 == 7 and result_int != '777' and int(result_int) % 100 != 77:\n",
    "        successes += 2\n",
    "    elif int(result_int) % 100 == 0:\n",
    "        successes += 1\n",
    "    elif int(result_int) % 10 == 0 and int(result_int) % 100 != 0:\n",
    "        successes += 0\n",
    "    else:\n",
    "        loss += cost\n",
    "    \n",
    "\n",
    "A = (successes - loss) / trials\n",
    "result = successes - loss\n",
    "\n",
    "print('Вероятность выигрыша, сумма выигрыша|проигрыша за 1 попытку, руб ',A)\n",
    "print('В среднем за игру игрок выигрывает или проигрывает (если значение отрицательное) ', result, 'при бюджете', trials)"
   ]
  },
  {
   "cell_type": "code",
   "execution_count": null,
   "metadata": {},
   "outputs": [],
   "source": []
  }
 ],
 "metadata": {
  "kernelspec": {
   "display_name": "Python 3",
   "language": "python",
   "name": "python3"
  },
  "language_info": {
   "codemirror_mode": {
    "name": "ipython",
    "version": 3
   },
   "file_extension": ".py",
   "mimetype": "text/x-python",
   "name": "python",
   "nbconvert_exporter": "python",
   "pygments_lexer": "ipython3",
   "version": "3.8.5"
  }
 },
 "nbformat": 4,
 "nbformat_minor": 4
}
